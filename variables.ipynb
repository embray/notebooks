{
 "metadata": {
  "name": "variables"
 },
 "nbformat": 3,
 "nbformat_minor": 0,
 "worksheets": [
  {
   "cells": [
    {
     "cell_type": "code",
     "collapsed": false,
     "input": [
      "from IPython.display import Image\n",
      "Image('https://raw.github.com/iguananaut/notebooks/master/images/Python_Variables_Cmap.png')"
     ],
     "language": "python",
     "metadata": {},
     "outputs": [
      {
       "output_type": "pyout",
       "png": "[encoded data removed]",
       "prompt_number": 17,
       "text": [
        "<IPython.core.display.Image at 0x22b7310>"
       ]
      }
     ],
     "prompt_number": 17
    },
    {
     "cell_type": "code",
     "collapsed": false,
     "input": [
      "a = 5\n",
      "print a"
     ],
     "language": "python",
     "metadata": {},
     "outputs": [
      {
       "output_type": "stream",
       "stream": "stdout",
       "text": [
        "5\n"
       ]
      }
     ],
     "prompt_number": 4
    },
    {
     "cell_type": "code",
     "collapsed": false,
     "input": [
      "b = a\n",
      "print b"
     ],
     "language": "python",
     "metadata": {},
     "outputs": [
      {
       "output_type": "stream",
       "stream": "stdout",
       "text": [
        "5\n"
       ]
      }
     ],
     "prompt_number": 5
    },
    {
     "cell_type": "code",
     "collapsed": false,
     "input": [
      "a = 8\n",
      "print 'a is', a\n",
      "print 'b is still', b"
     ],
     "language": "python",
     "metadata": {},
     "outputs": [
      {
       "output_type": "stream",
       "stream": "stdout",
       "text": [
        "a is 8\n",
        "b is still 5\n"
       ]
      }
     ],
     "prompt_number": 6
    },
    {
     "cell_type": "code",
     "collapsed": false,
     "input": [
      "a = a + 1\n",
      "print 'a is now', a\n",
      "print 'b is still', b"
     ],
     "language": "python",
     "metadata": {},
     "outputs": [
      {
       "output_type": "stream",
       "stream": "stdout",
       "text": [
        "a is now 9\n",
        "b is still 5\n"
       ]
      }
     ],
     "prompt_number": 7
    },
    {
     "cell_type": "code",
     "collapsed": false,
     "input": [
      "a = [1, 2, 3]\n",
      "b = a\n",
      "print 'a is', a\n",
      "print 'b is', b"
     ],
     "language": "python",
     "metadata": {},
     "outputs": [
      {
       "output_type": "stream",
       "stream": "stdout",
       "text": [
        "a is [1, 2, 3]\n",
        "b is [1, 2, 3]\n"
       ]
      }
     ],
     "prompt_number": 10
    },
    {
     "cell_type": "code",
     "collapsed": false,
     "input": [
      "a[0] = 42\n",
      "print 'a is now', a\n",
      "print 'b is also', b"
     ],
     "language": "python",
     "metadata": {},
     "outputs": [
      {
       "output_type": "stream",
       "stream": "stdout",
       "text": [
        "a is now [42, 2, 3]\n",
        "b is also [42, 2, 3]\n"
       ]
      }
     ],
     "prompt_number": 11
    },
    {
     "cell_type": "code",
     "collapsed": false,
     "input": [
      "a = 5\n",
      "b = a\n",
      "print 'a is', a\n",
      "print 'b is', b"
     ],
     "language": "python",
     "metadata": {},
     "outputs": [
      {
       "output_type": "stream",
       "stream": "stdout",
       "text": [
        "a is 5\n",
        "b is 5\n"
       ]
      }
     ],
     "prompt_number": 8
    },
    {
     "cell_type": "code",
     "collapsed": false,
     "input": [
      "a += 1\n",
      "print 'a is now', a\n",
      "print 'b is still', b"
     ],
     "language": "python",
     "metadata": {},
     "outputs": [
      {
       "output_type": "stream",
       "stream": "stdout",
       "text": [
        "a is now 6\n",
        "b is still 5\n"
       ]
      }
     ],
     "prompt_number": 9
    },
    {
     "cell_type": "code",
     "collapsed": false,
     "input": [
      "a = [1, 2, 3]\n",
      "b = a\n",
      "print 'a is', a\n",
      "print 'b is', b"
     ],
     "language": "python",
     "metadata": {},
     "outputs": [
      {
       "output_type": "stream",
       "stream": "stdout",
       "text": [
        "a is [1, 2, 3]\n",
        "b is [1, 2, 3]\n"
       ]
      }
     ],
     "prompt_number": 12
    },
    {
     "cell_type": "code",
     "collapsed": false,
     "input": [
      "a += [4, 5, 6]\n",
      "print 'a is now', a\n",
      "print 'b is also', b"
     ],
     "language": "python",
     "metadata": {},
     "outputs": [
      {
       "output_type": "stream",
       "stream": "stdout",
       "text": [
        "a is now [1, 2, 3, 4, 5, 6]\n",
        "b is also [1, 2, 3, 4, 5, 6]\n"
       ]
      }
     ],
     "prompt_number": 13
    },
    {
     "cell_type": "markdown",
     "metadata": {},
     "source": [
      "# Why did the list update in place, but not the integer?"
     ]
    },
    {
     "cell_type": "markdown",
     "metadata": {},
     "source": [
      "## Mutable vs. Immutable Types\n",
      "\n",
      "In Python, some objects types are considered \"mutable\", while others are considered \"immutable\".  Immutable objects include single values such as strings, integers, and floating point numbers, as well as a few containers like tuples.  Immutable objects can never be updated in place--operations on immutable objects always return a new object of the same type.  For example when we did\n",
      "\n",
      "    a = 5\n",
      "    b = a\n",
      "    a += 1\n",
      "\n",
      "the value `5` was not added to in place.  Rather, this was equivalent to:\n",
      "\n",
      "    a = a + 1\n",
      "\n",
      "Where the expression `a + 1` returns a new integer object `6`.  But the `b` variable is still pointing to the original value of `a`, which was the immutable `5` object.\n",
      "\n",
      "Mutable objects are usually container types such as `list` and `dict` that can have their contents updated in place.  So in place operations such as when we did\n",
      "\n",
      "    a = [1, 2, 3]\n",
      "    b = a\n",
      "    a += [4, 5, 6]\n",
      "\n",
      "are allowed to modify the object pointed to by `a`.  The `b` variable is still pointing to the same object as `a` so it sees the updates as well."
     ]
    }
   ],
   "metadata": {}
  }
 ]
}